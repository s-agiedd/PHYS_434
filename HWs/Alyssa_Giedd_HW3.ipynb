{
 "cells": [
  {
   "cell_type": "code",
   "execution_count": 1,
   "metadata": {},
   "outputs": [],
   "source": [
    "import numpy as np\n",
    "import matplotlib\n",
    "import matplotlib.pyplot as plt\n",
    "import scipy\n",
    "from scipy import stats as stats\n",
    "from scipy.stats import norm as norm"
   ]
  },
  {
   "cell_type": "markdown",
   "metadata": {},
   "source": [
    "# Problem 1"
   ]
  },
  {
   "cell_type": "markdown",
   "metadata": {},
   "source": [
    "### 1a) Which algorithm makes the fewest mistakes?\n",
    "The neural net algorithm makes the fewest mistakes in terms of discrete classification, however it makes more high cost errors as a result.\n",
    "\n",
    "### 1b) Which algorithm is better for the zoo? Explain.\n",
    "The overly cautious algorithm (my algorithm) is better for the zoo due as it allows fewer birds to escape. As we've stated previously, humans being trapped in the aviary for a few seconds is less costly than losing birds.\n",
    "\n",
    "### 1c) During the pandemic the number of visitors plummets, and it is only the zoo keeper visiting. So instead of 52% of the photos taken at the aviary door being people, it is now only 1%. Make new truth tables for both algorithms.\n",
    "    Old Algorithm:\n",
    "|True Bird|True Person\n",
    "-|-|-\n",
    "NN Bird  |92.8125|0.096\n",
    "NN Person|6.19|0.90\n",
    "\n",
    "    New Algorithm:\n",
    "|True Bird|True Person\n",
    "-|-|-\n",
    "NN Bird  |96.9|0.211\n",
    "NN Person|2.065|0.81"
   ]
  },
  {
   "cell_type": "markdown",
   "metadata": {},
   "source": [
    "# Problem 2"
   ]
  },
  {
   "cell_type": "code",
   "execution_count": null,
   "metadata": {},
   "outputs": [],
   "source": []
  }
 ],
 "metadata": {
  "kernelspec": {
   "display_name": "Python 3",
   "language": "python",
   "name": "python3"
  },
  "language_info": {
   "codemirror_mode": {
    "name": "ipython",
    "version": 3
   },
   "file_extension": ".py",
   "mimetype": "text/x-python",
   "name": "python",
   "nbconvert_exporter": "python",
   "pygments_lexer": "ipython3",
   "version": "3.6.4"
  }
 },
 "nbformat": 4,
 "nbformat_minor": 2
}
