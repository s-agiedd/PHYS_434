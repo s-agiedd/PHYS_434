{
 "cells": [
  {
   "cell_type": "code",
   "execution_count": 3,
   "metadata": {},
   "outputs": [],
   "source": [
    "import numpy as np\n",
    "import matplotlib\n",
    "import matplotlib.pyplot as plt\n",
    "import scipy\n",
    "from scipy import stats as stats\n",
    "from scipy.stats import norm as norm\n",
    "from scipy.stats import rayleigh"
   ]
  },
  {
   "cell_type": "markdown",
   "metadata": {},
   "source": [
    "# Problem 1"
   ]
  },
  {
   "cell_type": "markdown",
   "metadata": {},
   "source": [
    "### 1a) Which algorithm makes the fewest mistakes?\n",
    "The neural net algorithm makes the fewest mistakes in terms of discrete classification (8), however it makes more high cost errors as a result.\n",
    "\n",
    "### 1b) Which algorithm is better for the zoo? Explain.\n",
    "The overly cautious algorithm (my algorithm) is better for the zoo due as it allows fewer birds to escape. As we've stated previously, humans being trapped in the aviary for a few seconds is less costly than losing birds.\n",
    "\n",
    "### 1c) During the pandemic the number of visitors plummets, and it is only the zoo keeper visiting. So instead of 52% of the photos taken at the aviary door being people, it is now only 1%. Make new truth tables for both algorithms.\n",
    "\n",
    "These algorithms can be converted by using the ratios in the original table with the new ratios. Here, for the top right corner of the old algorithm we can demonstrate: $\\frac{5}{52} = \\frac{x}{1}$, where x is the value to be intepreted into the new table, 52 comes from the original correct number of people, 5 comes from the original number of incorrect identifications, and 1 is the number of real people we have in the new context. Solving for x we find $x = 0.096$ We can repeat this process for every value in the table:\n",
    "\n",
    "    Old Algorithm:\n",
    "|True Bird|True Person\n",
    "-|-|-\n",
    "NN Bird  |92.8125|0.096\n",
    "NN Person|6.19|0.90\n",
    "\n",
    "    New Algorithm:\n",
    "|True Bird|True Person\n",
    "-|-|-\n",
    "NN Bird  |96.9|0.211\n",
    "NN Person|2.065|0.81\n",
    "\n",
    "The numbers shown here are not integers, this is due to the fact that the probabilities represented in the original truth table cannot be reflected in whole numbers with the sample size of 100 offered. Therefore, we can interpret this table as \"accuracy percentages of the algorithm diagnoses.\" "
   ]
  },
  {
   "cell_type": "markdown",
   "metadata": {},
   "source": [
    "# Problem 2"
   ]
  },
  {
   "cell_type": "markdown",
   "metadata": {},
   "source": [
    "### 2a) What is the pdf of the sum of two identical exponential distributions?"
   ]
  },
  {
   "cell_type": "markdown",
   "metadata": {},
   "source": [
    "The PDF of 2 [exponential distributions](https://en.wikipedia.org/wiki/Exponential_distribution) with identical parameters is an [Erlang distribution](https://en.wikipedia.org/wiki/Erlang_distribution) with shape k = 2 and $\\lambda$ parameter, which also results in the specific special case of a [gamma distribution](https://en.wikipedia.org/wiki/Gamma_distribution)."
   ]
  },
  {
   "cell_type": "markdown",
   "metadata": {},
   "source": [
    "### 2b) What is the pdf of the ratio of two zero-mean unit variance normal distributions  X1/X2 ?"
   ]
  },
  {
   "cell_type": "markdown",
   "metadata": {},
   "source": [
    "The PDF of the ratio of two zero-mean unit variance [normal distributions](https://en.wikipedia.org/wiki/Normal_distribution) x1/x2 is a [cauchy distribution](https://en.wikipedia.org/wiki/Cauchy_distribution) where the parameter mean = 0 and the parameter $\\gamma$ = 0"
   ]
  },
  {
   "cell_type": "markdown",
   "metadata": {},
   "source": [
    "### 2c) So far we have looked at 1D probability distributions, but it is possible to have a multi-dimensional vector distribution. A simple first introduction is the 2D Guassian; it looks like a smeared spot. Mathematically this is given by  Xi^+Yj^  where both  X  and  Y  are drawn from 1D Gaussian distributions. If I measure the amplitude of this vector, what is its pdf? (Hint, the amplitude is always positive.)"
   ]
  },
  {
   "cell_type": "markdown",
   "metadata": {},
   "source": [
    "When measuring the amplitudes of a 2D gaussian, the corresponding PDF is a [Rayleigh distribution](https://en.wikipedia.org/wiki/Rayleigh_distribution). This is because 2D vectors with [bivariate normally distributed](https://en.wikipedia.org/wiki/Multivariate_normal_distribution) components result in a [Rayleigh distribution](https://en.wikipedia.org/wiki/Rayleigh_distribution) after calculation of their vector lengths as PDFs."
   ]
  },
  {
   "cell_type": "code",
   "execution_count": null,
   "metadata": {},
   "outputs": [],
   "source": []
  }
 ],
 "metadata": {
  "kernelspec": {
   "display_name": "Python 3",
   "language": "python",
   "name": "python3"
  },
  "language_info": {
   "codemirror_mode": {
    "name": "ipython",
    "version": 3
   },
   "file_extension": ".py",
   "mimetype": "text/x-python",
   "name": "python",
   "nbconvert_exporter": "python",
   "pygments_lexer": "ipython3",
   "version": "3.6.4"
  }
 },
 "nbformat": 4,
 "nbformat_minor": 2
}
