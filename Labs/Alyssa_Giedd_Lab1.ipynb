{
 "cells": [
  {
   "cell_type": "markdown",
   "metadata": {},
   "source": [
    "# A little statistics"
   ]
  },
  {
   "cell_type": "code",
   "execution_count": 2,
   "metadata": {},
   "outputs": [],
   "source": [
    "import numpy as np\n",
    "import matplotlib\n",
    "import matplotlib.pyplot as plt\n",
    "import scipy\n",
    "from scipy.stats import norm as norm\n",
    "from scipy.stats import chi2 as chi2\n"
   ]
  },
  {
   "cell_type": "markdown",
   "metadata": {},
   "source": [
    "Converting a probability into a 'sigma'. As discussed in class, 'sigma' refers to a probability in physics. Our first task is to figure out how, given a probability, to calculate the assoicated 'sigma' value. The sigma implicitly refers to the standard normal distribution (a Gaussian with mean zero and standard deviation of 1). As we discussed in class, integrals of the standard normal distribution give probabilities."
   ]
  },
  {
   "cell_type": "code",
   "execution_count": 3,
   "metadata": {},
   "outputs": [
    {
     "name": "stdout",
     "output_type": "stream",
     "text": [
      "0.758036347776927\n",
      "0.7\n"
     ]
    }
   ],
   "source": [
    "#Normal distribution with sigma 0.7\n",
    "f = norm.cdf(0.7, loc = 0, scale = 1)\n",
    "print(f)\n",
    "print(norm.ppf(f))"
   ]
  },
  {
   "cell_type": "markdown",
   "metadata": {},
   "source": [
    "A negative value means that the point is located on the other side of the distribution."
   ]
  },
  {
   "cell_type": "markdown",
   "metadata": {},
   "source": [
    "Now let's explore some other continuous analytic distributions. Following the pattern from your first HW assigment, make both the analytic pdf() and a realization with ~100k samples using a built-in distribution; but this time don't use the Gaussian. Choose one of the following distributions: Rayleigh; Lognormal; Chi-Squared or Gamma; Exponential. You and your partner should choose different distributions."
   ]
  },
  {
   "cell_type": "code",
   "execution_count": 47,
   "metadata": {},
   "outputs": [
    {
     "data": {
      "image/png": "[encoded data removed]",
      "text/plain": [
       "<matplotlib.figure.Figure at 0x20f61dd1588>"
      ]
     },
     "metadata": {},
     "output_type": "display_data"
    }
   ],
   "source": [
    "#Chi-Squared distribution as an analytic PDF and realization with 100k sample size\n",
    "\n",
    "fig, ax = plt.subplots(1, 1)\n",
    "plt.tick_params(labelsize = 24)\n",
    "df = 55\n",
    "x = np.linspace(chi2.ppf(0.01, df),chi2.ppf(0.99, df), 1000)\n",
    "r = chi2.rvs(df, size=100000)\n",
    "ax.hist(r,1000, density=True)\n",
    "ax.plot(x, chi2.pdf(x, df), linewidth=8, alpha=0.7)\n",
    "plt.show()"
   ]
  },
  {
   "cell_type": "markdown",
   "metadata": {},
   "source": [
    "Imagine that your signal-free data follows the distribution you have chosen; and you have a measurement for which you need to determine the 'sigma'. Select a value for your hypothetical measurement."
   ]
  },
  {
   "cell_type": "code",
   "execution_count": 50,
   "metadata": {},
   "outputs": [
    {
     "name": "stdout",
     "output_type": "stream",
     "text": [
      "What is the likelihood that the target signal was from the source rather than background noise?\n",
      "Probability:  0.9161904920443094\n",
      "Sigma from given probability:  70.0\n"
     ]
    }
   ],
   "source": [
    "#Select a value for your hypothetical measurement\n",
    "#Our hypothetical target value here is 70\n",
    "f = chi2.cdf(70, df)\n",
    "#Clearly state the statistical question you want to ask in words\n",
    "print(\"What is the likelihood that the target signal was from the source rather than background noise?\")\n",
    "#Convert your word question into a mathematical integral\n",
    "\n",
    "#Use the math to calculate the probability that the background produced the signal (Hint: you will want to use the statistics functions to do the integrals. .cdf() and .ppf() in scipy).\n",
    "print(\"Probability: \", f)\n",
    "#Convert your probability into an equivalent 'sigma'\n",
    "print(\"Sigma from given probability: \", chi2.ppf(f, df))"
   ]
  },
  {
   "cell_type": "markdown",
   "metadata": {},
   "source": [
    "Now explore a little bit. Try various hypothetical measurement values and see how the probabilities and 'sigmas' change. Discuss the patterns that you see."
   ]
  },
  {
   "cell_type": "markdown",
   "metadata": {},
   "source": [
    "# Non-continuous distributions"
   ]
  },
  {
   "cell_type": "code",
   "execution_count": null,
   "metadata": {},
   "outputs": [],
   "source": []
  }
 ],
 "metadata": {
  "kernelspec": {
   "display_name": "Python 3",
   "language": "python",
   "name": "python3"
  },
  "language_info": {
   "codemirror_mode": {
    "name": "ipython",
    "version": 3
   },
   "file_extension": ".py",
   "mimetype": "text/x-python",
   "name": "python",
   "nbconvert_exporter": "python",
   "pygments_lexer": "ipython3",
   "version": "3.6.4"
  }
 },
 "nbformat": 4,
 "nbformat_minor": 2
}
