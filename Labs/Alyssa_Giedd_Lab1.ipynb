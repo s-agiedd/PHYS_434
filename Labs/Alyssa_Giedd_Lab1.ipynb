{
 "cells": [
  {
   "cell_type": "markdown",
   "metadata": {},
   "source": [
    "# A little statistics"
   ]
  },
  {
   "cell_type": "code",
   "execution_count": 53,
   "metadata": {},
   "outputs": [],
   "source": [
    "import numpy as np\n",
    "import matplotlib\n",
    "import matplotlib.pyplot as plt\n",
    "import scipy\n",
    "from scipy import stats as stats\n",
    "from scipy.stats import norm as norm\n",
    "from scipy.stats import chi2 as chi2\n"
   ]
  },
  {
   "cell_type": "markdown",
   "metadata": {},
   "source": [
    "### Converting a probability into a 'sigma'. As discussed in class, 'sigma' refers to a probability in physics. Our first task is to figure out how, given a probability, to calculate the assoicated 'sigma' value. The sigma implicitly refers to the standard normal distribution (a Gaussian with mean zero and standard deviation of 1). As we discussed in class, integrals of the standard normal distribution give probabilities."
   ]
  },
  {
   "cell_type": "code",
   "execution_count": 50,
   "metadata": {},
   "outputs": [
    {
     "name": "stdout",
     "output_type": "stream",
     "text": [
      "Probability:  0.758036347776927\n",
      "Associated Sigma:  0.7\n"
     ]
    }
   ],
   "source": [
    "#Normal distribution with sigma 0.7\n",
    "f = norm.cdf(0.7, loc = 0, scale = 1)\n",
    "print(\"Probability: \", f)\n",
    "print(\"Associated Sigma: \", norm.ppf(f))"
   ]
  },
  {
   "cell_type": "markdown",
   "metadata": {},
   "source": [
    "#### If a minus sign appears, think about it and explain the meaning.\n",
    "A negative value means that the point is located on the other side of the distribution."
   ]
  },
  {
   "cell_type": "markdown",
   "metadata": {},
   "source": [
    "#### Now let's explore some other continuous analytic distributions. Following the pattern from your first HW assigment, make both the analytic pdf() and a realization with ~100k samples using a built-in distribution; but this time don't use the Gaussian. Choose one of the following distributions: Rayleigh; Lognormal; Chi-Squared or Gamma; Exponential. You and your partner should choose different distributions."
   ]
  },
  {
   "cell_type": "code",
   "execution_count": 4,
   "metadata": {},
   "outputs": [
    {
     "data": {
      "image/png": "[encoded data removed]",
      "text/plain": [
       "<matplotlib.figure.Figure at 0x21fe51a39e8>"
      ]
     },
     "metadata": {},
     "output_type": "display_data"
    }
   ],
   "source": [
    "#Chi-Squared distribution as an analytic PDF and realization with 100k sample size\n",
    "\n",
    "fig, ax = plt.subplots(1, 1)\n",
    "plt.tick_params(labelsize = 24)\n",
    "df = 55\n",
    "x = np.linspace(chi2.ppf(0.01, df),chi2.ppf(0.99, df), 1000)\n",
    "r = chi2.rvs(df, size=100000)\n",
    "ax.hist(r,1000, density=True)\n",
    "ax.plot(x, chi2.pdf(x, df), linewidth=8, alpha=0.7)\n",
    "plt.show()"
   ]
  },
  {
   "cell_type": "markdown",
   "metadata": {},
   "source": [
    "#### Imagine that your signal-free data follows the distribution you have chosen; and you have a measurement for which you need to determine the 'sigma'. Select a value for your hypothetical measurement."
   ]
  },
  {
   "cell_type": "code",
   "execution_count": 7,
   "metadata": {},
   "outputs": [
    {
     "name": "stdout",
     "output_type": "stream",
     "text": [
      "What is the likelihood that the percieved signal was background noise rather than the target signal?\n",
      "Probability:  0.3343680320602863\n",
      "Sigma from given probability:  50.00000000000001\n"
     ]
    }
   ],
   "source": [
    "#Select a value for your hypothetical measurement\n",
    "#Our hypothetical target value here is 70\n",
    "f = chi2.cdf(50, df)\n",
    "#Clearly state the statistical question you want to ask in words\n",
    "print(\"What is the likelihood that the percieved signal was background noise rather than the target signal?\")\n",
    "#Convert your word question into a mathematical integral\n",
    "\n",
    "#Use the math to calculate the probability that the background produced the signal (Hint: you will want to use the statistics functions to do the integrals. .cdf() and .ppf() in scipy).\n",
    "print(\"Probability: \", f)\n",
    "#Convert your probability into an equivalent 'sigma'\n",
    "print(\"Sigma from given probability: \", chi2.ppf(f, df))"
   ]
  },
  {
   "cell_type": "markdown",
   "metadata": {},
   "source": [
    "#### Now explore a little bit. Try various hypothetical measurement values and see how the probabilities and 'sigmas' change. Discuss the patterns that you see.\n",
    "\n",
    "As the hypothetical values deviate further from the center of the distribution, the probabilty that they're random noise instead of the target signal increases."
   ]
  },
  {
   "cell_type": "markdown",
   "metadata": {},
   "source": [
    "# Non-continuous distributions: Binomial"
   ]
  },
  {
   "cell_type": "code",
   "execution_count": 48,
   "metadata": {},
   "outputs": [
    {
     "data": {
      "image/png": "[encoded data removed]",
      "text/plain": [
       "<matplotlib.figure.Figure at 0x21fe7412f60>"
      ]
     },
     "metadata": {},
     "output_type": "display_data"
    }
   ],
   "source": [
    "n = 11\n",
    "p = 0.7\n",
    "\n",
    "values = list(range(n + 1)) #generating values\n",
    "dist = [scipy.stats.binom.pmf(x, n, p) for x in values] #applying binomial distribution to list\n",
    "\n",
    "plt.bar(values, dist)\n",
    "plt.show()"
   ]
  },
  {
   "cell_type": "code",
   "execution_count": 75,
   "metadata": {},
   "outputs": [
    {
     "data": {
      "image/png": "[encoded data removed]",
      "text/plain": [
       "<matplotlib.figure.Figure at 0x21fe6fb3da0>"
      ]
     },
     "metadata": {},
     "output_type": "display_data"
    }
   ],
   "source": [
    "n = 6\n",
    "p = 0.6\n",
    "\n",
    "values = list(range(n + 1)) #generating values\n",
    "dist = [scipy.stats.binom.pmf(x, n, p) for x in values] #applying binomial distribution to list\n",
    "\n",
    "plt.bar(values, dist)\n",
    "plt.show()"
   ]
  },
  {
   "cell_type": "markdown",
   "metadata": {},
   "source": [
    "What is the probability that the background produced a signal as signal-like or more than what I observed?"
   ]
  },
  {
   "cell_type": "code",
   "execution_count": 83,
   "metadata": {},
   "outputs": [
    {
     "name": "stdout",
     "output_type": "stream",
     "text": [
      "Probability that the observed phenomenon is background noise:  0.95904\n",
      "Sigma:  1.0\n"
     ]
    }
   ],
   "source": [
    "n = 6\n",
    "p = 0.6\n",
    "\n",
    "prob = stats.binom.cdf(1, n, p)\n",
    "print(\"Probability that the observed phenomenon is background noise: \", 1 - prob)\n",
    "\n",
    "print(\"Sigma: \", stats.binom.ppf(prob, n, p))"
   ]
  },
  {
   "cell_type": "markdown",
   "metadata": {},
   "source": [
    "#### Because the distributions are discrete, so are the probabilities and 'sigmas'. Think about this and discuss the implications for experiments.\n",
    "\n",
    "The discrete sigmas indicate that events are discrete. So the probability of one event occurring is not dependent on another event occuring.\n",
    "\n",
    "#### While the results are discrete, the parameters of the distributions are not. For example, the mean of a Poisson distribution can be 9.2. Think about and explain why this makes sense and what changes continuously and what doesn't.\n",
    "\n",
    "This makes sense because while the actual results themselves are discrete, their means may not be. This means that statistical averages such as the mean are continuous, however independent probabilities and events are not."
   ]
  },
  {
   "cell_type": "code",
   "execution_count": null,
   "metadata": {},
   "outputs": [],
   "source": []
  }
 ],
 "metadata": {
  "kernelspec": {
   "display_name": "Python 3",
   "language": "python",
   "name": "python3"
  },
  "language_info": {
   "codemirror_mode": {
    "name": "ipython",
    "version": 3
   },
   "file_extension": ".py",
   "mimetype": "text/x-python",
   "name": "python",
   "nbconvert_exporter": "python",
   "pygments_lexer": "ipython3",
   "version": "3.6.4"
  }
 },
 "nbformat": 4,
 "nbformat_minor": 2
}
