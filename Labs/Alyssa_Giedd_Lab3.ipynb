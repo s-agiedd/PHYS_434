{
 "cells": [
  {
   "cell_type": "code",
   "execution_count": 8,
   "metadata": {},
   "outputs": [],
   "source": [
    "import numpy as np\n",
    "import matplotlib\n",
    "import matplotlib.pyplot as plt\n",
    "import scipy\n",
    "from scipy import stats as stats\n",
    "from scipy.stats import norm as norm\n",
    "plt.rcParams[\"figure.figsize\"] = (10,7)"
   ]
  },
  {
   "cell_type": "markdown",
   "metadata": {},
   "source": [
    "# Problem 1"
   ]
  },
  {
   "cell_type": "code",
   "execution_count": 36,
   "metadata": {},
   "outputs": [
    {
     "data": {
      "image/png": "[encoded data removed]",
      "text/plain": [
       "<matplotlib.figure.Figure at 0x207d8d3cf28>"
      ]
     },
     "metadata": {},
     "output_type": "display_data"
    },
    {
     "name": "stdout",
     "output_type": "stream",
     "text": [
      "[10.0, 2.1, 0.0, 0.0, 15.6, 22.3]\n"
     ]
    }
   ],
   "source": [
    "#A) So our goal is to identify bad data and throw it out.\n",
    "\n",
    "#Start by exploring the data you have created with appropriate plots\n",
    "#State the statistical question in words. Be very clear, and describe why you have chosen this statistical question.\n",
    "d = np.append(stats.norm.rvs(loc = 12., scale = 0.4, size = 100000), [10., 10.3, 2.1, 0., 0., 15.6, 22.3, 12.7])\n",
    "fig, ax = plt.subplots(1, 1)\n",
    "ax.hist(d,100, density=True)\n",
    "plt.tick_params(labelsize = 24)\n",
    "plt.yscale('log')\n",
    "\n",
    "\n",
    "\n",
    "mask_dist = stats.norm.rvs(loc = 12., scale = 0.4, size = 100000)\n",
    "\n",
    "errorvals = []\n",
    "errorindex = []\n",
    "maskresult = []\n",
    "\n",
    "for i in range(len(d)):\n",
    "    probability = stats.norm.cdf(d[i], loc = 12., scale = 0.4)\n",
    "    sigma = stats.norm.ppf(probability)\n",
    "    if sigma > 5 or sigma < -5:\n",
    "        errorvals.append(d[i])\n",
    "    else: \n",
    "        maskresult.append(d[i])\n",
    "\n",
    "ax.hist(maskresult, 100, density=True)\n",
    "plt.xlabel('Temperature (Kelvin)')\n",
    "plt.ylabel('Probability (Log Scale)')\n",
    "plt.title('Temperature Probability Distribution')\n",
    "plt.show()\n",
    "print(errorvals)"
   ]
  },
  {
   "cell_type": "markdown",
   "metadata": {},
   "source": [
    "The plot above is the original data, with a 5 sigma mask overlaid. The further visible blue bars are representative of the outlier data points. We can see that zero is twice as high as the other bars, because it occurs twice whereas all other values occur once.\n",
    "\n",
    "The distance from the \"bad\" data to the good data helps us determine where to set our bounds in sigma (visible by looking at the orange mask)."
   ]
  },
  {
   "cell_type": "markdown",
   "metadata": {},
   "source": [
    "### Restate your question in math. Be very clear.\n",
    "How likely is it that we find a true value greater than 5 sigma away from the distribution?\n",
    "\n",
    "Given that our function is a Gaussian distribution with $\\mu = 12$ and $\\sigma = 0.4$, we can use the function: \n",
    "$ \\int_{-\\infty}^d \\frac{1}{\\sqrt{2\\pi \\cdot 0.4}} e^-\\frac{(x-12)^2}{2(0.4^2)}$\n",
    "\n",
    "which allows us to find a specific d value.\n",
    "\n",
    "### Apply your statistical test and construct a truth table.\n",
    "\n",
    "|True Correct Value|True Incorrect Value\n",
    "-|-|-\n",
    "Identified Correct Value  |100000|2\n",
    "Identified Incorrect Value|0|6"
   ]
  },
  {
   "cell_type": "markdown",
   "metadata": {},
   "source": [
    "### B) How does the number of omissions, where you threw out good data, depend on the statistical threshold you chose and is it a predictable quantity?\n",
    "The number of omissions goes up as the selected sigma decreases. This is predictable because as sigma is lower and our bounds are tightened we can expect that a greater number of good data is thrown out mistakenly.\n",
    "\n",
    "### C) Are there mistakes of commission (bad data getting in)? If yes, are they avoidable and how do they depend on your statistical threshold?\n",
    "\n",
    "There are some mistakes of commission, in this instance there were two. They are avoidable, but not at the cost of excluding good data. Bad data gets in when we use a higher sigma as our benchmark. For instance, we would be able to exclude erroneous points such as 12.7 at approximately 4 sigma, however we would also be excluding a considerable number of valid data points by doing so."
   ]
  },
  {
   "cell_type": "markdown",
   "metadata": {},
   "source": [
    "# Problem 2"
   ]
  },
  {
   "cell_type": "markdown",
   "metadata": {},
   "source": [
    "1. What is the question in words?\n",
    "\n",
    "   The question in words is \"What amount of arcsecond motion is indicative of an asteroid's presence (5 sigma or less)?\" \n",
    "   \n",
    "1. What is the question in math?\n",
    "\n",
    "    A Rayleigh distribution is the result of a vector amplitude distribution in the context of a 2D Gaussian, so we can calculate Probability and sigma using\n",
    "\n",
    "    $ Prob =\\int_{5\\sigma}^\\infty \\frac{x}{\\sigma^2}e^\\frac{-x^2}{2\\sigma^2}dx$\n",
    "    \n",
    "    $5\\sigma =3\\cdot10^{-7}$\n",
    "    to determine what the correct value of arcseconds is for a 5 sigma distribution.\n",
    "\n",
    "3. What distance in arcseconds represents a 5 sigma detection of motion?"
   ]
  },
  {
   "cell_type": "code",
   "execution_count": 17,
   "metadata": {},
   "outputs": [
    {
     "name": "stdout",
     "output_type": "stream",
     "text": [
      "5 sigma detection at distance: 5.489079776034238\n"
     ]
    }
   ],
   "source": [
    "prob = stats.norm.cdf(5)\n",
    "sigma = stats.rayleigh.ppf(prob)\n",
    "\n",
    "print(\"5 sigma detection at distance:\", sigma)"
   ]
  },
  {
   "cell_type": "markdown",
   "metadata": {},
   "source": [
    "# Problem 3"
   ]
  },
  {
   "cell_type": "markdown",
   "metadata": {},
   "source": [
    "1. What is the question in words?\n",
    "    \n",
    "    The question in words is \"What is the likelihood that the background signal is as signal like as 6800 cosmic rays?\"\n",
    "\n",
    "2. Translate the question to math, describing both the expected background pdf() and the integral you need to do.\n",
    "\n",
    "    Using a Poisson distribution of cosmic rays where expected value of 1 ray/minute, we can calculate the mean of the distribution by further using the fact that we are looking at 8 hours a day for 15 days to get an expected rate (lambda) of 7200 cosmic rays. This gives us the function: \n",
    "\n",
    "    $PDF = \\int_0^{6800}\\frac{7200^x}{x!}e^{-7200}dx $ \n",
    "\n",
    "3. Convert to sigma."
   ]
  },
  {
   "cell_type": "code",
   "execution_count": 14,
   "metadata": {},
   "outputs": [
    {
     "name": "stdout",
     "output_type": "stream",
     "text": [
      "Moon shadow detection with 6800 rays:  4.750747965778662\n"
     ]
    }
   ],
   "source": [
    "prob = 1 - stats.poisson.cdf(6800, 7200, 0)\n",
    "sigma = stats.norm.ppf(prob)\n",
    "\n",
    "print(\"Moon shadow detection with 6800 rays: \", sigma)"
   ]
  },
  {
   "cell_type": "code",
   "execution_count": 38,
   "metadata": {},
   "outputs": [
    {
     "data": {
      "image/png": "[encoded data removed]",
      "text/plain": [
       "<matplotlib.figure.Figure at 0x207e108a748>"
      ]
     },
     "metadata": {},
     "output_type": "display_data"
    }
   ],
   "source": [
    "xvals=[]\n",
    "background=[]\n",
    "for i in range(0, 15000):\n",
    "    xvals.append(i)\n",
    "    background.append(stats.poisson.pmf(i, 7200))\n",
    "plt.step(xvals, background)\n",
    "plt.ylabel(\"Probability\")\n",
    "plt.xlabel(\"Cosmic Rays (# of rays)\")    \n",
    "plt.title(\"Cosmic Ray Background PD\")\n",
    "plt.xlim([6600, 7750])\n",
    "plt.show()"
   ]
  },
  {
   "cell_type": "code",
   "execution_count": null,
   "metadata": {},
   "outputs": [],
   "source": []
  }
 ],
 "metadata": {
  "kernelspec": {
   "display_name": "Python 3",
   "language": "python",
   "name": "python3"
  },
  "language_info": {
   "codemirror_mode": {
    "name": "ipython",
    "version": 3
   },
   "file_extension": ".py",
   "mimetype": "text/x-python",
   "name": "python",
   "nbconvert_exporter": "python",
   "pygments_lexer": "ipython3",
   "version": "3.6.4"
  }
 },
 "nbformat": 4,
 "nbformat_minor": 2
}
