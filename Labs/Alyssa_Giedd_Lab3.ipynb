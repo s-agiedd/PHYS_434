{
 "cells": [
  {
   "cell_type": "code",
   "execution_count": 1,
   "metadata": {},
   "outputs": [],
   "source": [
    "import numpy as np\n",
    "import matplotlib\n",
    "import matplotlib.pyplot as plt\n",
    "import scipy\n",
    "from scipy import stats as stats\n",
    "from scipy.stats import norm as norm"
   ]
  },
  {
   "cell_type": "markdown",
   "metadata": {},
   "source": [
    "# Problem 1"
   ]
  },
  {
   "cell_type": "code",
   "execution_count": 31,
   "metadata": {},
   "outputs": [
    {
     "data": {
      "image/png": "[encoded data removed]",
      "text/plain": [
       "<matplotlib.figure.Figure at 0x1b34edd92e8>"
      ]
     },
     "metadata": {},
     "output_type": "display_data"
    },
    {
     "name": "stdout",
     "output_type": "stream",
     "text": [
      "[10.0, 2.1, 0.0, 0.0, 15.6, 22.3]\n"
     ]
    }
   ],
   "source": [
    "#A) So our goal is to identify bad data and throw it out.\n",
    "\n",
    "#Start by exploring the data you have created with appropriate plots\n",
    "#State the statistical question in words. Be very clear, and describe why you have chosen this statistical question.\n",
    "d = np.append(stats.norm.rvs(loc = 12., scale = 0.4, size = 100000), [10., 10.3, 2.1, 0., 0., 15.6, 22.3, 12.7])\n",
    "fig, ax = plt.subplots(1, 1)\n",
    "ax.hist(d,100, density=True)\n",
    "plt.tick_params(labelsize = 24)\n",
    "plt.yscale('log')\n",
    "\n",
    "\n",
    "\n",
    "mask_dist = stats.norm.rvs(loc = 12., scale = 0.4, size = 100000)\n",
    "\n",
    "errorvals = []\n",
    "maskresult = []\n",
    "\n",
    "for i in range(len(d)):\n",
    "    probability = stats.norm.cdf(d[i], loc = 12., scale = 0.4)\n",
    "    sigma = stats.norm.ppf(probability)\n",
    "    if sigma > 5 or sigma < -5:\n",
    "        errorvals.append(d[i])\n",
    "    else: \n",
    "        maskresult.append(d[i])\n",
    "\n",
    "ax.hist(maskresult, 100, density=True)\n",
    "plt.show()\n",
    "print(errorvals)"
   ]
  },
  {
   "cell_type": "markdown",
   "metadata": {},
   "source": [
    "### Restate your question in math. Be very clear.\n",
    "\n",
    "### Apply your statistical test and construct a truth table.\n",
    "\n",
    "|True Correct Value|True Incorrect Value\n",
    "-|-|-\n",
    "Identified Correct Value  |100000|1\n",
    "Identified Incorrect Value|0|6"
   ]
  },
  {
   "cell_type": "markdown",
   "metadata": {},
   "source": [
    "### B) How does the number of omissions, where you threw out good data, depend on the statistical threshold you chose and is it a predictable quantity?\n",
    "The number of omissions goes up as the selected sigma decreases. This is predictable because as sigma is lower and our bounds are tightened we can expect that a greater number of good data is thrown out mistakenly.\n",
    "\n",
    "### C) Are there mistakes of commission (bad data getting in)? If yes, are they avoidable and how do they depend on your statistical threshold?\n",
    "\n",
    "There are some mistakes of commission, in this instance there was one. They are avoidable, but not at the cost of excluding good data. Bad data gets in when we use a higher sigma as our benchmark."
   ]
  },
  {
   "cell_type": "markdown",
   "metadata": {},
   "source": [
    "# Problem 2"
   ]
  },
  {
   "cell_type": "code",
   "execution_count": null,
   "metadata": {},
   "outputs": [],
   "source": [
    "a = np.vstack((stats.norm.rvs( scale = 1, size = 100000), stats.norm.rvs( scale = 1, size = 100000)))\n",
    "a.shape\n",
    "fig, ax = plt.subplots(1, 1)\n",
    "h = ax.hist2d(a[0,:],a[1,:],bins=100, density=True);\n",
    "mask_arr = np.vstack((stats.norm.rvs( scale = 1, size = 100000), stats.norm.rvs( scale = 1, size = 100000)))\n",
    "\n",
    "mask_arr = [][]\n",
    "for i in range(len(a[0,:])):\n",
    "    probability = stats.rayleigh.cdf(d[i], loc = 12., scale = 0.4)\n",
    "    sigma = stats.rayleigh.ppf(probability)\n",
    "    for x in range(len(a[1,:])):\n",
    "        probability = stats.rayleigh.cdf(a[1, x], loc = 12., scale = 0.4)\n",
    "        sigma = stats.rayleigh.ppf(probability)\n",
    "        if sigma > 5 or sigma < -5:\n",
    "            mask_arr.append(d[i])\n",
    "        else: \n",
    "            maskresult.append(d[i])\n",
    "    if sigma > 5 or sigma < -5:\n",
    "        mask_arr.append(d[i])\n",
    "    else: \n",
    "        maskresult.append(d[i])\n",
    "\n",
    "mask = ax.hist2d(mask_arr[0,:], mask_arr[1,:],bins=100, density=True)\n",
    "ax.set_aspect('equal', 'box')\n",
    "plt.xlim([-3 , 3])\n",
    "plt.ylim([-3 , 3])\n",
    "plt.title(\"2D Histogram of positional uncertainty\", fontsize = 24)\n",
    "plt.ylabel(\"$\\Delta$y arcseconds\", fontsize = 18)\n",
    "plt.xlabel(\"$\\Delta$x arcseconds\", fontsize = 18)\n",
    "plt.colorbar(h[3], ax=ax)"
   ]
  },
  {
   "cell_type": "markdown",
   "metadata": {},
   "source": [
    "1. What is the question in words?\n",
    "\n",
    "   The question in words is \"What amount of arcsecond motion is indicative of an asteroid's presence?\" \n",
    "   \n",
    "1. What is the question in math?"
   ]
  },
  {
   "cell_type": "code",
   "execution_count": null,
   "metadata": {},
   "outputs": [],
   "source": []
  }
 ],
 "metadata": {
  "kernelspec": {
   "display_name": "Python 3",
   "language": "python",
   "name": "python3"
  },
  "language_info": {
   "codemirror_mode": {
    "name": "ipython",
    "version": 3
   },
   "file_extension": ".py",
   "mimetype": "text/x-python",
   "name": "python",
   "nbconvert_exporter": "python",
   "pygments_lexer": "ipython3",
   "version": "3.6.4"
  }
 },
 "nbformat": 4,
 "nbformat_minor": 2
}
